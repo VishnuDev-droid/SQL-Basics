{
 "cells": [
  {
   "cell_type": "code",
   "execution_count": 1,
   "id": "2cbd0882",
   "metadata": {},
   "outputs": [],
   "source": [
    "import os\n",
    "import psycopg2 as ps\n",
    "import pandas as pd\n",
    "\n",
    "#install ipython-sql: !pip installl ipython-sql\n",
    "#Load SQL module\n",
    "%load_ext sql\n",
    "#Load sql module\n",
    "%sql sqlite://"
   ]
  },
  {
   "cell_type": "markdown",
   "id": "13aa1dc5",
   "metadata": {},
   "source": [
    "#### create table"
   ]
  },
  {
   "cell_type": "code",
   "execution_count": 2,
   "id": "1e366805",
   "metadata": {},
   "outputs": [
    {
     "name": "stdout",
     "output_type": "stream",
     "text": [
      " * sqlite://\n",
      "Done.\n"
     ]
    },
    {
     "data": {
      "text/plain": [
       "[]"
      ]
     },
     "execution_count": 2,
     "metadata": {},
     "output_type": "execute_result"
    }
   ],
   "source": [
    "%%sql\n",
    "CREATE TABLE books\n",
    "(\n",
    "    id INTEGER PRIMARY KEY, \n",
    "    name TEXT, \n",
    "    rating float\n",
    ");"
   ]
  },
  {
   "cell_type": "markdown",
   "id": "4ac01ca0",
   "metadata": {},
   "source": [
    "#### Insert items to table"
   ]
  },
  {
   "cell_type": "code",
   "execution_count": 3,
   "id": "c44363ac",
   "metadata": {},
   "outputs": [
    {
     "name": "stdout",
     "output_type": "stream",
     "text": [
      " * sqlite://\n",
      "1 rows affected.\n",
      "1 rows affected.\n",
      "1 rows affected.\n"
     ]
    },
    {
     "data": {
      "text/plain": [
       "[]"
      ]
     },
     "execution_count": 3,
     "metadata": {},
     "output_type": "execute_result"
    }
   ],
   "source": [
    "%%sql \n",
    "INSERT INTO books VALUES(1, \"Fluid\", 4.5);\n",
    "INSERT INTO books VALUES(2, \"Visionary Thinking\", 4);\n",
    "INSERT INTO books VALUES(3, \"Atomic Habits\", 4.6);"
   ]
  },
  {
   "cell_type": "markdown",
   "id": "316573b9",
   "metadata": {},
   "source": [
    "#### Qurying"
   ]
  },
  {
   "cell_type": "code",
   "execution_count": 4,
   "id": "44c88fbb",
   "metadata": {},
   "outputs": [
    {
     "name": "stdout",
     "output_type": "stream",
     "text": [
      " * sqlite://\n",
      "Done.\n"
     ]
    },
    {
     "data": {
      "text/html": [
       "<table>\n",
       "    <tr>\n",
       "        <th>id</th>\n",
       "        <th>name</th>\n",
       "        <th>rating</th>\n",
       "    </tr>\n",
       "    <tr>\n",
       "        <td>1</td>\n",
       "        <td>Fluid</td>\n",
       "        <td>4.5</td>\n",
       "    </tr>\n",
       "    <tr>\n",
       "        <td>2</td>\n",
       "        <td>Visionary Thinking</td>\n",
       "        <td>4.0</td>\n",
       "    </tr>\n",
       "    <tr>\n",
       "        <td>3</td>\n",
       "        <td>Atomic Habits</td>\n",
       "        <td>4.6</td>\n",
       "    </tr>\n",
       "</table>"
      ],
      "text/plain": [
       "[(1, 'Fluid', 4.5), (2, 'Visionary Thinking', 4.0), (3, 'Atomic Habits', 4.6)]"
      ]
     },
     "execution_count": 4,
     "metadata": {},
     "output_type": "execute_result"
    }
   ],
   "source": [
    "%%sql\n",
    "SELECT * from books"
   ]
  },
  {
   "cell_type": "code",
   "execution_count": 5,
   "id": "564d5158",
   "metadata": {},
   "outputs": [],
   "source": [
    "result = _"
   ]
  },
  {
   "cell_type": "code",
   "execution_count": 6,
   "id": "17f2069f",
   "metadata": {},
   "outputs": [],
   "source": [
    "df = result.DataFrame()"
   ]
  },
  {
   "cell_type": "code",
   "execution_count": 7,
   "id": "5daab014",
   "metadata": {},
   "outputs": [
    {
     "data": {
      "text/html": [
       "<div>\n",
       "<style scoped>\n",
       "    .dataframe tbody tr th:only-of-type {\n",
       "        vertical-align: middle;\n",
       "    }\n",
       "\n",
       "    .dataframe tbody tr th {\n",
       "        vertical-align: top;\n",
       "    }\n",
       "\n",
       "    .dataframe thead th {\n",
       "        text-align: right;\n",
       "    }\n",
       "</style>\n",
       "<table border=\"1\" class=\"dataframe\">\n",
       "  <thead>\n",
       "    <tr style=\"text-align: right;\">\n",
       "      <th></th>\n",
       "      <th>id</th>\n",
       "      <th>name</th>\n",
       "      <th>rating</th>\n",
       "    </tr>\n",
       "  </thead>\n",
       "  <tbody>\n",
       "    <tr>\n",
       "      <th>0</th>\n",
       "      <td>1</td>\n",
       "      <td>Fluid</td>\n",
       "      <td>4.5</td>\n",
       "    </tr>\n",
       "    <tr>\n",
       "      <th>1</th>\n",
       "      <td>2</td>\n",
       "      <td>Visionary Thinking</td>\n",
       "      <td>4.0</td>\n",
       "    </tr>\n",
       "    <tr>\n",
       "      <th>2</th>\n",
       "      <td>3</td>\n",
       "      <td>Atomic Habits</td>\n",
       "      <td>4.6</td>\n",
       "    </tr>\n",
       "  </tbody>\n",
       "</table>\n",
       "</div>"
      ],
      "text/plain": [
       "   id                name  rating\n",
       "0   1               Fluid     4.5\n",
       "1   2  Visionary Thinking     4.0\n",
       "2   3       Atomic Habits     4.6"
      ]
     },
     "execution_count": 7,
     "metadata": {},
     "output_type": "execute_result"
    }
   ],
   "source": [
    "df"
   ]
  },
  {
   "cell_type": "code",
   "execution_count": 8,
   "id": "7a79da0a",
   "metadata": {},
   "outputs": [
    {
     "name": "stdout",
     "output_type": "stream",
     "text": [
      " * sqlite://\n",
      "Done.\n"
     ]
    },
    {
     "data": {
      "text/html": [
       "<table>\n",
       "    <tr>\n",
       "        <th>name</th>\n",
       "    </tr>\n",
       "    <tr>\n",
       "        <td>Fluid</td>\n",
       "    </tr>\n",
       "    <tr>\n",
       "        <td>Visionary Thinking</td>\n",
       "    </tr>\n",
       "    <tr>\n",
       "        <td>Atomic Habits</td>\n",
       "    </tr>\n",
       "</table>"
      ],
      "text/plain": [
       "[('Fluid',), ('Visionary Thinking',), ('Atomic Habits',)]"
      ]
     },
     "execution_count": 8,
     "metadata": {},
     "output_type": "execute_result"
    }
   ],
   "source": [
    "%%sql\n",
    "SELECT name FROM books"
   ]
  },
  {
   "cell_type": "code",
   "execution_count": 9,
   "id": "3cef2615",
   "metadata": {},
   "outputs": [
    {
     "name": "stdout",
     "output_type": "stream",
     "text": [
      " * sqlite://\n",
      "Done.\n"
     ]
    },
    {
     "data": {
      "text/html": [
       "<table>\n",
       "    <tr>\n",
       "        <th>id</th>\n",
       "        <th>name</th>\n",
       "        <th>rating</th>\n",
       "    </tr>\n",
       "    <tr>\n",
       "        <td>3</td>\n",
       "        <td>Atomic Habits</td>\n",
       "        <td>4.6</td>\n",
       "    </tr>\n",
       "    <tr>\n",
       "        <td>1</td>\n",
       "        <td>Fluid</td>\n",
       "        <td>4.5</td>\n",
       "    </tr>\n",
       "    <tr>\n",
       "        <td>2</td>\n",
       "        <td>Visionary Thinking</td>\n",
       "        <td>4.0</td>\n",
       "    </tr>\n",
       "</table>"
      ],
      "text/plain": [
       "[(3, 'Atomic Habits', 4.6), (1, 'Fluid', 4.5), (2, 'Visionary Thinking', 4.0)]"
      ]
     },
     "execution_count": 9,
     "metadata": {},
     "output_type": "execute_result"
    }
   ],
   "source": [
    "%%sql\n",
    "SELECT * FROM books ORDER BY rating DESC"
   ]
  },
  {
   "cell_type": "code",
   "execution_count": 10,
   "id": "626da80b",
   "metadata": {},
   "outputs": [
    {
     "name": "stdout",
     "output_type": "stream",
     "text": [
      " * sqlite://\n",
      "Done.\n",
      "1 rows affected.\n",
      "1 rows affected.\n",
      "1 rows affected.\n",
      "1 rows affected.\n",
      "1 rows affected.\n",
      "1 rows affected.\n"
     ]
    },
    {
     "data": {
      "text/plain": [
       "[]"
      ]
     },
     "execution_count": 10,
     "metadata": {},
     "output_type": "execute_result"
    }
   ],
   "source": [
    "%%sql\n",
    "CREATE TABLE movies (id INTEGER PRIMARY KEY, name TEXT, release_year INTEGER);\n",
    "INSERT INTO movies VALUES (1, \"Avatar\", 2009);\n",
    "INSERT INTO movies VALUES (2, \"Titanic\", 1997);\n",
    "INSERT INTO movies VALUES (3, \"Star Wars: Episode IV - A New Hope\", 1977);\n",
    "INSERT INTO movies VALUES (4, \"Shrek 2\", 2004);\n",
    "INSERT INTO movies VALUES (5, \"The Lion King\", 1994);\n",
    "INSERT INTO movies VALUES (6, \"Disney's Up\", 2009);\n"
   ]
  },
  {
   "cell_type": "code",
   "execution_count": 11,
   "id": "93a31eb3",
   "metadata": {},
   "outputs": [
    {
     "name": "stdout",
     "output_type": "stream",
     "text": [
      " * sqlite://\n",
      "Done.\n"
     ]
    },
    {
     "data": {
      "text/html": [
       "<table>\n",
       "    <tr>\n",
       "        <th>id</th>\n",
       "        <th>name</th>\n",
       "        <th>release_year</th>\n",
       "    </tr>\n",
       "    <tr>\n",
       "        <td>1</td>\n",
       "        <td>Avatar</td>\n",
       "        <td>2009</td>\n",
       "    </tr>\n",
       "    <tr>\n",
       "        <td>2</td>\n",
       "        <td>Titanic</td>\n",
       "        <td>1997</td>\n",
       "    </tr>\n",
       "    <tr>\n",
       "        <td>3</td>\n",
       "        <td>Star Wars: Episode IV - A New Hope</td>\n",
       "        <td>1977</td>\n",
       "    </tr>\n",
       "    <tr>\n",
       "        <td>4</td>\n",
       "        <td>Shrek 2</td>\n",
       "        <td>2004</td>\n",
       "    </tr>\n",
       "    <tr>\n",
       "        <td>5</td>\n",
       "        <td>The Lion King</td>\n",
       "        <td>1994</td>\n",
       "    </tr>\n",
       "    <tr>\n",
       "        <td>6</td>\n",
       "        <td>Disney&#x27;s Up</td>\n",
       "        <td>2009</td>\n",
       "    </tr>\n",
       "</table>"
      ],
      "text/plain": [
       "[(1, 'Avatar', 2009),\n",
       " (2, 'Titanic', 1997),\n",
       " (3, 'Star Wars: Episode IV - A New Hope', 1977),\n",
       " (4, 'Shrek 2', 2004),\n",
       " (5, 'The Lion King', 1994),\n",
       " (6, \"Disney's Up\", 2009)]"
      ]
     },
     "execution_count": 11,
     "metadata": {},
     "output_type": "execute_result"
    }
   ],
   "source": [
    "%%sql\n",
    "SELECT * FROM movies"
   ]
  },
  {
   "cell_type": "markdown",
   "id": "051ed3c5",
   "metadata": {},
   "source": [
    "#### retrieves only the movies that were released in the year 2000 or later, not before. Sort the results so that the earlier movies are listed first."
   ]
  },
  {
   "cell_type": "code",
   "execution_count": 12,
   "id": "51049ac0",
   "metadata": {},
   "outputs": [
    {
     "name": "stdout",
     "output_type": "stream",
     "text": [
      " * sqlite://\n",
      "Done.\n"
     ]
    },
    {
     "data": {
      "text/html": [
       "<table>\n",
       "    <tr>\n",
       "        <th>id</th>\n",
       "        <th>name</th>\n",
       "        <th>release_year</th>\n",
       "    </tr>\n",
       "    <tr>\n",
       "        <td>4</td>\n",
       "        <td>Shrek 2</td>\n",
       "        <td>2004</td>\n",
       "    </tr>\n",
       "    <tr>\n",
       "        <td>1</td>\n",
       "        <td>Avatar</td>\n",
       "        <td>2009</td>\n",
       "    </tr>\n",
       "    <tr>\n",
       "        <td>6</td>\n",
       "        <td>Disney&#x27;s Up</td>\n",
       "        <td>2009</td>\n",
       "    </tr>\n",
       "</table>"
      ],
      "text/plain": [
       "[(4, 'Shrek 2', 2004), (1, 'Avatar', 2009), (6, \"Disney's Up\", 2009)]"
      ]
     },
     "execution_count": 12,
     "metadata": {},
     "output_type": "execute_result"
    }
   ],
   "source": [
    "%%sql\n",
    "SELECT * FROM movies WHERE release_year>=2000 ORDER BY release_year"
   ]
  },
  {
   "cell_type": "markdown",
   "id": "66345b9d",
   "metadata": {},
   "source": [
    "#### Aggregating Data"
   ]
  },
  {
   "cell_type": "code",
   "execution_count": 13,
   "id": "63b811a7",
   "metadata": {},
   "outputs": [
    {
     "name": "stdout",
     "output_type": "stream",
     "text": [
      " * sqlite://\n",
      "Done.\n",
      "1 rows affected.\n",
      "1 rows affected.\n",
      "1 rows affected.\n",
      "1 rows affected.\n",
      "Done.\n"
     ]
    },
    {
     "data": {
      "text/html": [
       "<table>\n",
       "    <tr>\n",
       "        <th>SUM(minutes)</th>\n",
       "    </tr>\n",
       "    <tr>\n",
       "        <td>105</td>\n",
       "    </tr>\n",
       "</table>"
      ],
      "text/plain": [
       "[(105,)]"
      ]
     },
     "execution_count": 13,
     "metadata": {},
     "output_type": "execute_result"
    }
   ],
   "source": [
    "%%sql\n",
    "CREATE TABLE todo_list (id INTEGER PRIMARY KEY, item TEXT, minutes INTEGER);\n",
    "INSERT INTO todo_list VALUES (1, \"Wash the dishes\", 15);\n",
    "INSERT INTO todo_list VALUES (2, \"vacuuming\", 20);\n",
    "INSERT INTO todo_list VALUES (3, \"Learn some stuff on KA\", 30);\n",
    "INSERT INTO todo_list VALUES (4, \"Workout\", 40);\n",
    "\n",
    "\n",
    "SELECT SUM(minutes) FROM todo_list"
   ]
  },
  {
   "cell_type": "markdown",
   "id": "e5f1a191",
   "metadata": {},
   "source": [
    "##### Use of AND OR"
   ]
  },
  {
   "cell_type": "code",
   "execution_count": 14,
   "id": "48ce3c6d",
   "metadata": {},
   "outputs": [
    {
     "name": "stdout",
     "output_type": "stream",
     "text": [
      " * sqlite://\n",
      "Done.\n",
      "1 rows affected.\n",
      "1 rows affected.\n"
     ]
    },
    {
     "data": {
      "text/plain": [
       "[]"
      ]
     },
     "execution_count": 14,
     "metadata": {},
     "output_type": "execute_result"
    }
   ],
   "source": [
    "%%sql\n",
    "CREATE TABLE exercise_logs\n",
    "    (id INTEGER PRIMARY KEY AUTOINCREMENT,\n",
    "    type TEXT,\n",
    "    minutes INTEGER, \n",
    "    calories INTEGER,\n",
    "    heart_rate INTEGER);\n",
    "\n",
    "INSERT INTO exercise_logs(type, minutes, calories, heart_rate) VALUES ('biking', 30, 100, 110);\n",
    "INSERT INTO exercise_logs(type, minutes, calories, heart_rate) VALUES ('dancing', 15, 200, 120);\n"
   ]
  },
  {
   "cell_type": "code",
   "execution_count": 15,
   "id": "33e67b3e",
   "metadata": {},
   "outputs": [
    {
     "name": "stdout",
     "output_type": "stream",
     "text": [
      " * sqlite://\n",
      "Done.\n"
     ]
    },
    {
     "data": {
      "text/html": [
       "<table>\n",
       "    <tr>\n",
       "        <th>id</th>\n",
       "        <th>type</th>\n",
       "        <th>minutes</th>\n",
       "        <th>calories</th>\n",
       "        <th>heart_rate</th>\n",
       "    </tr>\n",
       "    <tr>\n",
       "        <td>2</td>\n",
       "        <td>dancing</td>\n",
       "        <td>15</td>\n",
       "        <td>200</td>\n",
       "        <td>120</td>\n",
       "    </tr>\n",
       "</table>"
      ],
      "text/plain": [
       "[(2, 'dancing', 15, 200, 120)]"
      ]
     },
     "execution_count": 15,
     "metadata": {},
     "output_type": "execute_result"
    }
   ],
   "source": [
    "%%sql\n",
    "SELECT * FROM exercise_logs WHERE calories>100;"
   ]
  },
  {
   "cell_type": "code",
   "execution_count": 16,
   "id": "a102c160",
   "metadata": {},
   "outputs": [
    {
     "name": "stdout",
     "output_type": "stream",
     "text": [
      " * sqlite://\n",
      "Done.\n"
     ]
    },
    {
     "data": {
      "text/html": [
       "<table>\n",
       "    <tr>\n",
       "        <th>id</th>\n",
       "        <th>type</th>\n",
       "        <th>minutes</th>\n",
       "        <th>calories</th>\n",
       "        <th>heart_rate</th>\n",
       "    </tr>\n",
       "    <tr>\n",
       "        <td>1</td>\n",
       "        <td>biking</td>\n",
       "        <td>30</td>\n",
       "        <td>100</td>\n",
       "        <td>110</td>\n",
       "    </tr>\n",
       "    <tr>\n",
       "        <td>2</td>\n",
       "        <td>dancing</td>\n",
       "        <td>15</td>\n",
       "        <td>200</td>\n",
       "        <td>120</td>\n",
       "    </tr>\n",
       "</table>"
      ],
      "text/plain": [
       "[(1, 'biking', 30, 100, 110), (2, 'dancing', 15, 200, 120)]"
      ]
     },
     "execution_count": 16,
     "metadata": {},
     "output_type": "execute_result"
    }
   ],
   "source": [
    "%%sql\n",
    "SELECT * FROM exercise_logs WHERE calories>100 OR minutes>15;"
   ]
  },
  {
   "cell_type": "markdown",
   "id": "2bc99d91",
   "metadata": {},
   "source": [
    "#### ANother Example"
   ]
  },
  {
   "cell_type": "code",
   "execution_count": 17,
   "id": "d2d70bf8",
   "metadata": {},
   "outputs": [
    {
     "name": "stdout",
     "output_type": "stream",
     "text": [
      " * sqlite://\n",
      "Done.\n",
      "1 rows affected.\n",
      "1 rows affected.\n",
      "1 rows affected.\n",
      "1 rows affected.\n",
      "1 rows affected.\n",
      "1 rows affected.\n",
      "1 rows affected.\n",
      "1 rows affected.\n",
      "Done.\n",
      "Done.\n",
      "Done.\n"
     ]
    },
    {
     "data": {
      "text/html": [
       "<table>\n",
       "    <tr>\n",
       "        <th>title</th>\n",
       "    </tr>\n",
       "    <tr>\n",
       "        <td>Let it go</td>\n",
       "    </tr>\n",
       "</table>"
      ],
      "text/plain": [
       "[('Let it go',)]"
      ]
     },
     "execution_count": 17,
     "metadata": {},
     "output_type": "execute_result"
    }
   ],
   "source": [
    "%%sql\n",
    "CREATE TABLE songs (\n",
    "    id INTEGER PRIMARY KEY,\n",
    "    title TEXT,\n",
    "    artist TEXT,\n",
    "    mood TEXT,\n",
    "    duration INTEGER,\n",
    "    released INTEGER);\n",
    "    \n",
    "INSERT INTO songs (title, artist, mood, duration, released)\n",
    "    VALUES (\"Bohemian Rhapsody\", \"Queen\", \"epic\", 60, 1975);\n",
    "INSERT INTO songs (title, artist, mood, duration, released)\n",
    "    VALUES (\"Let it go\", \"Idina Menzel\", \"epic\", 227, 2013);\n",
    "INSERT INTO songs (title, artist, mood, duration, released)\n",
    "    VALUES (\"I will survive\", \"Gloria Gaynor\", \"epic\", 198, 1978);\n",
    "INSERT INTO songs (title, artist, mood, duration, released)\n",
    "    VALUES (\"Twist and Shout\", \"The Beatles\", \"happy\", 152, 1963);\n",
    "INSERT INTO songs (title, artist, mood, duration, released)\n",
    "    VALUES (\"La Bamba\", \"Ritchie Valens\", \"happy\", 166, 1958);\n",
    "INSERT INTO songs (title, artist, mood, duration, released)\n",
    "    VALUES (\"I will always love you\", \"Whitney Houston\", \"epic\", 273, 1992);\n",
    "INSERT INTO songs (title, artist, mood, duration, released)\n",
    "    VALUES (\"Sweet Caroline\", \"Neil Diamond\", \"happy\", 201, 1969);\n",
    "INSERT INTO songs (title, artist, mood, duration, released)\n",
    "    VALUES (\"Call me maybe\", \"Carly Rae Jepsen\", \"happy\", 193, 2011);\n",
    "    \n",
    "    \n",
    "SELECT title FROM songs;\n",
    "\n",
    "SELECT title FROM songs WHERE released > 1990 OR mood=='epic';\n",
    "\n",
    "SELECT title FROM songs WHERE released > 1990 AND mood=='epic' AND duration < 4*60;"
   ]
  },
  {
   "cell_type": "markdown",
   "id": "3c601e9f",
   "metadata": {},
   "source": [
    "##### Usage of IN"
   ]
  },
  {
   "cell_type": "code",
   "execution_count": 18,
   "id": "bd9e4612",
   "metadata": {},
   "outputs": [
    {
     "name": "stdout",
     "output_type": "stream",
     "text": [
      " * sqlite://\n",
      "(sqlite3.OperationalError) table exercise_logs already exists\n",
      "[SQL: CREATE TABLE exercise_logs\n",
      "    (id INTEGER PRIMARY KEY AUTOINCREMENT,\n",
      "    type TEXT,\n",
      "    minutes INTEGER, \n",
      "    calories INTEGER,\n",
      "    heart_rate INTEGER);]\n",
      "(Background on this error at: https://sqlalche.me/e/14/e3q8)\n"
     ]
    }
   ],
   "source": [
    "%%sql\n",
    "CREATE TABLE exercise_logs\n",
    "    (id INTEGER PRIMARY KEY AUTOINCREMENT,\n",
    "    type TEXT,\n",
    "    minutes INTEGER, \n",
    "    calories INTEGER,\n",
    "    heart_rate INTEGER);\n",
    "\n",
    "INSERT INTO exercise_logs(type, minutes, calories, heart_rate) VALUES (\"biking\", 30, 100, 110);\n",
    "INSERT INTO exercise_logs(type, minutes, calories, heart_rate) VALUES (\"biking\", 10, 30, 105);\n",
    "INSERT INTO exercise_logs(type, minutes, calories, heart_rate) VALUES (\"dancing\", 15, 200, 120);\n",
    "INSERT INTO exercise_logs(type, minutes, calories, heart_rate) VALUES (\"tree climbing\", 30, 70, 90);\n",
    "INSERT INTO exercise_logs(type, minutes, calories, heart_rate) VALUES (\"tree climbing\", 25, 72, 80);\n",
    "INSERT INTO exercise_logs(type, minutes, calories, heart_rate) VALUES (\"rowing\", 30, 70, 90);\n",
    "INSERT INTO exercise_logs(type, minutes, calories, heart_rate) VALUES (\"hiking\", 60, 80, 85);\n",
    "\n",
    "SELECT * FROM exercise_logs WHERE type = \"biking\" OR type = \"hiking\" OR type = \"tree climbing\" OR type = \"rowing\";\n",
    "\n",
    "/* IN */\n",
    "SELECT * FROM exercise_logs WHERE type IN (\"biking\", \"hiking\", \"tree climbing\", \"rowing\");"
   ]
  },
  {
   "cell_type": "code",
   "execution_count": 19,
   "id": "fbdbedd1",
   "metadata": {},
   "outputs": [
    {
     "name": "stdout",
     "output_type": "stream",
     "text": [
      " * sqlite://\n",
      "Done.\n",
      "1 rows affected.\n",
      "1 rows affected.\n"
     ]
    },
    {
     "data": {
      "text/plain": [
       "[]"
      ]
     },
     "execution_count": 19,
     "metadata": {},
     "output_type": "execute_result"
    }
   ],
   "source": [
    "%%sql\n",
    "CREATE TABLE drs_favorites\n",
    "    (id INTEGER PRIMARY KEY,\n",
    "    type TEXT,\n",
    "    reason TEXT);\n",
    "\n",
    "INSERT INTO drs_favorites(type, reason) VALUES (\"biking\", \"Improves endurance and flexibility.\");\n",
    "INSERT INTO drs_favorites(type, reason) VALUES (\"hiking\", \"Increases cardiovascular health.\");"
   ]
  },
  {
   "cell_type": "markdown",
   "id": "dc5ae10d",
   "metadata": {},
   "source": [
    "#### Sub Query"
   ]
  },
  {
   "cell_type": "code",
   "execution_count": 20,
   "id": "23a9a5f8",
   "metadata": {},
   "outputs": [
    {
     "name": "stdout",
     "output_type": "stream",
     "text": [
      " * sqlite://\n",
      "Done.\n"
     ]
    },
    {
     "data": {
      "text/html": [
       "<table>\n",
       "    <tr>\n",
       "        <th>id</th>\n",
       "        <th>type</th>\n",
       "        <th>minutes</th>\n",
       "        <th>calories</th>\n",
       "        <th>heart_rate</th>\n",
       "    </tr>\n",
       "    <tr>\n",
       "        <td>1</td>\n",
       "        <td>biking</td>\n",
       "        <td>30</td>\n",
       "        <td>100</td>\n",
       "        <td>110</td>\n",
       "    </tr>\n",
       "</table>"
      ],
      "text/plain": [
       "[(1, 'biking', 30, 100, 110)]"
      ]
     },
     "execution_count": 20,
     "metadata": {},
     "output_type": "execute_result"
    }
   ],
   "source": [
    "%%sql\n",
    "SELECT * FROM exercise_logs WHERE type IN (SELECT type FROM drs_favorites);"
   ]
  },
  {
   "cell_type": "code",
   "execution_count": 21,
   "id": "2c708484",
   "metadata": {},
   "outputs": [
    {
     "name": "stdout",
     "output_type": "stream",
     "text": [
      " * sqlite://\n",
      "Done.\n"
     ]
    },
    {
     "data": {
      "text/html": [
       "<table>\n",
       "    <tr>\n",
       "        <th>id</th>\n",
       "        <th>type</th>\n",
       "        <th>minutes</th>\n",
       "        <th>calories</th>\n",
       "        <th>heart_rate</th>\n",
       "    </tr>\n",
       "</table>"
      ],
      "text/plain": [
       "[]"
      ]
     },
     "execution_count": 21,
     "metadata": {},
     "output_type": "execute_result"
    }
   ],
   "source": [
    "%%sql\n",
    "\n",
    "SELECT * FROM exercise_logs WHERE type IN (\n",
    "    SELECT type FROM drs_favorites WHERE reason LIKE \"%cardiovascular%\");"
   ]
  },
  {
   "cell_type": "markdown",
   "id": "437d7acc",
   "metadata": {},
   "source": [
    "##### Sub querying another example"
   ]
  },
  {
   "cell_type": "code",
   "execution_count": 22,
   "id": "23c79ce8",
   "metadata": {},
   "outputs": [
    {
     "name": "stdout",
     "output_type": "stream",
     "text": [
      " * sqlite://\n",
      "Done.\n",
      "1 rows affected.\n",
      "1 rows affected.\n",
      "1 rows affected.\n",
      "1 rows affected.\n",
      "1 rows affected.\n",
      "1 rows affected.\n",
      "1 rows affected.\n",
      "1 rows affected.\n",
      "1 rows affected.\n",
      "1 rows affected.\n",
      "1 rows affected.\n",
      "1 rows affected.\n",
      "(sqlite3.OperationalError) table songs already exists\n",
      "[SQL: CREATE TABLE songs (\n",
      "    id INTEGER PRIMARY KEY AUTOINCREMENT,\n",
      "    artist TEXT,\n",
      "    title TEXT);]\n",
      "(Background on this error at: https://sqlalche.me/e/14/e3q8)\n"
     ]
    }
   ],
   "source": [
    "%%sql\n",
    "CREATE TABLE artists (\n",
    "    id INTEGER PRIMARY KEY AUTOINCREMENT,\n",
    "    name TEXT,\n",
    "    country TEXT,\n",
    "    genre TEXT);\n",
    "\n",
    "INSERT INTO artists (name, country, genre)\n",
    "    VALUES (\"Taylor Swift\", \"US\", \"Pop\");\n",
    "INSERT INTO artists (name, country, genre)\n",
    "    VALUES (\"Led Zeppelin\", \"US\", \"Hard rock\");\n",
    "INSERT INTO artists (name, country, genre)\n",
    "    VALUES (\"ABBA\", \"Sweden\", \"Disco\");\n",
    "INSERT INTO artists (name, country, genre)\n",
    "    VALUES (\"Queen\", \"UK\", \"Rock\");\n",
    "INSERT INTO artists (name, country, genre)\n",
    "    VALUES (\"Celine Dion\", \"Canada\", \"Pop\");\n",
    "INSERT INTO artists (name, country, genre)\n",
    "    VALUES (\"Meatloaf\", \"US\", \"Hard rock\");\n",
    "INSERT INTO artists (name, country, genre)\n",
    "    VALUES (\"Garth Brooks\", \"US\", \"Country\");\n",
    "INSERT INTO artists (name, country, genre)\n",
    "    VALUES (\"Shania Twain\", \"Canada\", \"Country\");\n",
    "INSERT INTO artists (name, country, genre)\n",
    "    VALUES (\"Rihanna\", \"US\", \"Pop\");\n",
    "INSERT INTO artists (name, country, genre)\n",
    "    VALUES (\"Guns N' Roses\", \"US\", \"Hard rock\");\n",
    "INSERT INTO artists (name, country, genre)\n",
    "    VALUES (\"Gloria Estefan\", \"US\", \"Pop\");\n",
    "INSERT INTO artists (name, country, genre)\n",
    "    VALUES (\"Bob Marley\", \"Jamaica\", \"Reggae\");\n",
    "\n",
    "CREATE TABLE songs (\n",
    "    id INTEGER PRIMARY KEY AUTOINCREMENT,\n",
    "    artist TEXT,\n",
    "    title TEXT);\n",
    "\n",
    "INSERT INTO songs (artist, title)\n",
    "    VALUES (\"Taylor Swift\", \"Shake it off\");\n",
    "INSERT INTO songs (artist, title)\n",
    "    VALUES (\"Rihanna\", \"Stay\");\n",
    "INSERT INTO songs (artist, title)\n",
    "    VALUES (\"Celine Dion\", \"My heart will go on\");\n",
    "INSERT INTO songs (artist, title)\n",
    "    VALUES (\"Celine Dion\", \"A new day has come\");\n",
    "INSERT INTO songs (artist, title)\n",
    "    VALUES (\"Shania Twain\", \"Party for two\");\n",
    "INSERT INTO songs (artist, title)\n",
    "    VALUES (\"Gloria Estefan\", \"Conga\");\n",
    "INSERT INTO songs (artist, title)\n",
    "    VALUES (\"Led Zeppelin\", \"Stairway to heaven\");\n",
    "INSERT INTO songs (artist, title)\n",
    "    VALUES (\"ABBA\", \"Mamma mia\");\n",
    "INSERT INTO songs (artist, title)\n",
    "    VALUES (\"Queen\", \"Bicycle Race\");\n",
    "INSERT INTO songs (artist, title)\n",
    "    VALUES (\"Queen\", \"Bohemian Rhapsody\");\n",
    "INSERT INTO songs (artist, title)\n",
    "    VALUES (\"Guns N' Roses\", \"Don't cry\");\n",
    "    \n",
    "\n",
    "SELECT title FROM songs WHERE artist IN(SELECT name FROM artists WHERE name == 'Queen');\n",
    "\n",
    "SELECT name FROM artists WHERE genre=='Pop';\n",
    "\n",
    "SELECT title FROM songs WHERE artist IN(SELECT name FROM artists WHERE genre=='Pop')"
   ]
  },
  {
   "cell_type": "code",
   "execution_count": null,
   "id": "26ea9203",
   "metadata": {},
   "outputs": [],
   "source": []
  }
 ],
 "metadata": {
  "kernelspec": {
   "display_name": "Python 3 (ipykernel)",
   "language": "python",
   "name": "python3"
  },
  "language_info": {
   "codemirror_mode": {
    "name": "ipython",
    "version": 3
   },
   "file_extension": ".py",
   "mimetype": "text/x-python",
   "name": "python",
   "nbconvert_exporter": "python",
   "pygments_lexer": "ipython3",
   "version": "3.8.10"
  }
 },
 "nbformat": 4,
 "nbformat_minor": 5
}
